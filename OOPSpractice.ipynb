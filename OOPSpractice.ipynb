{
 "cells": [
  {
   "cell_type": "code",
   "execution_count": 1,
   "id": "26aee22c",
   "metadata": {},
   "outputs": [],
   "source": [
    "class Employee1:\n",
    "    '''__ doesnt allow anything outside class to \n",
    "    access these attributes i.e makes them private & they \n",
    "    can only be accessed using class functions'''\n",
    "    __name = None\n",
    "    __id = 0\n",
    "    __salary = 0\n",
    "    \n",
    "    #self is the current object i.e this.object\n",
    "    \n",
    "    def set_name(self, name):\n",
    "        self.__name = name\n",
    "        \n",
    "    def get_name(self):\n",
    "        return self.__name\n",
    "    \n",
    "    def set_id(self, idno):\n",
    "        self.__id = idno\n",
    "        \n",
    "    def get_id(self):\n",
    "        return self.__id  \n",
    "    \n",
    "    def set_salary(self, salary):\n",
    "        self.__salary = salary\n",
    "    \n",
    "    def get_salary(self):\n",
    "        return self.__salary"
   ]
  },
  {
   "cell_type": "code",
   "execution_count": 2,
   "id": "75d997ad",
   "metadata": {},
   "outputs": [
    {
     "name": "stdout",
     "output_type": "stream",
     "text": [
      "Emma\n",
      "12\n",
      "345678\n"
     ]
    }
   ],
   "source": [
    "Emma = Employee1() \n",
    "#this code will give error\n",
    "#print(Emma.__name)\n",
    "\n",
    "Emma.set_name(\"Emma\")\n",
    "Emma.set_id(12)\n",
    "Emma.set_salary(345678)\n",
    "\n",
    "print(Emma.get_name())\n",
    "print(Emma.get_id())\n",
    "print(Emma.get_salary())"
   ]
  },
  {
   "cell_type": "code",
   "execution_count": 3,
   "id": "bd3a3026",
   "metadata": {},
   "outputs": [],
   "source": [
    "class Employee2:\n",
    "    '''__ doesnt allow anything outside class to \n",
    "    access these attributes i.e makes them private & they \n",
    "    can only be accessed using class functions'''\n",
    "    __name = None\n",
    "    __id = 0\n",
    "    __salary = 0\n",
    "    \n",
    "    #self is the current object i.e this.object\n",
    "    #__init__ is constructor function\n",
    "    \n",
    "    def __init__(self, name, idno, salary):\n",
    "        self.__name = name\n",
    "        self.__id = idno\n",
    "        self.__salary = salary\n",
    "        \n",
    "    def get_name(self):\n",
    "        return self.__name\n",
    "       \n",
    "    def get_id(self):\n",
    "        return self.__id  \n",
    "    \n",
    "    def get_salary(self):\n",
    "        return self.__salary"
   ]
  },
  {
   "cell_type": "code",
   "execution_count": 4,
   "id": "d80fa5dc",
   "metadata": {},
   "outputs": [
    {
     "name": "stdout",
     "output_type": "stream",
     "text": [
      "Peter\n",
      "2\n",
      "234554\n"
     ]
    }
   ],
   "source": [
    "Peter = Employee2(\"Peter\", \"2\", \"234554\")\n",
    "print(Peter.get_name())\n",
    "print(Peter.get_id())\n",
    "print(Peter.get_salary())"
   ]
  },
  {
   "cell_type": "markdown",
   "id": "6397fd45",
   "metadata": {},
   "source": [
    "### Array of Objects"
   ]
  },
  {
   "cell_type": "code",
   "execution_count": 10,
   "id": "3d1183f8",
   "metadata": {},
   "outputs": [],
   "source": [
    "class students:\n",
    "    __name = None\n",
    "    __grade = None\n",
    "    __section = None\n",
    "    roll_no = 0\n",
    "    \n",
    "    def __init__(self,roll_no,name,grade,section):\n",
    "        self.__name = name\n",
    "        self.__grade = grade\n",
    "        self.roll_no = roll_no\n",
    "        self.__section = section\n",
    "        \n",
    "    def get_name(self):\n",
    "        return self.__name\n",
    "    \n",
    "    def get_rollno(self):\n",
    "        return self.roll_no\n",
    "    \n",
    "    def get_class(self):\n",
    "        return self.__grade,self.__section\n",
    "    \n",
    "    def update_name(self,new_name):\n",
    "        self.__name = new_name\n",
    "            \n",
    "    def update_rollno(self,new_rollno):\n",
    "        self.roll_no = new_rollno\n",
    "    \n",
    "    def update_class(self,new_grade, new_section):\n",
    "        self.__grade = new_grade\n",
    "        self.__section = new_section\n",
    "    \n",
    "    def show(self):\n",
    "        print(f\"Roll no. : {self.roll_no}\")\n",
    "        print(f\"Name : {self.__name}\")\n",
    "        print(f\"Class : {self.__grade}-{self.__section}\")\n",
    "        "
   ]
  },
  {
   "cell_type": "code",
   "execution_count": 11,
   "id": "fa7d9a87",
   "metadata": {},
   "outputs": [
    {
     "name": "stdout",
     "output_type": "stream",
     "text": [
      "Do you want to add student data?\n",
      "y\n",
      "Enter roll no.: 1\n",
      "Enter name: a\n",
      "Enter class: 12\n",
      "Enter section: A\n",
      "Do you want to add more student data?y\n",
      "Enter roll no.: 2\n",
      "Enter name: b\n",
      "Enter class: 12\n",
      "Enter section: A\n",
      "Do you want to add more student data?y\n",
      "Enter roll no.: 3\n",
      "Enter name: c\n",
      "Enter class: 12\n",
      "Enter section: A\n",
      "Do you want to add more student data?n\n"
     ]
    }
   ],
   "source": [
    "student_data = []\n",
    "c = input(\"Do you want to add student data?\\n\")\n",
    "\n",
    "while c == 'y' or c == 'Y':\n",
    "    \n",
    "    roll_no = int(input(\"Enter roll no.: \"))\n",
    "    name = input(\"Enter name: \")\n",
    "    grade = input(\"Enter class: \")\n",
    "    section = input(\"Enter section: \")\n",
    "\n",
    "    student = students(roll_no,name,grade,section)\n",
    "    student_data.append(student)\n",
    "    \n",
    "    c = input(\"Do you want to add more student data?\\n\")\n"
   ]
  },
  {
   "cell_type": "code",
   "execution_count": 13,
   "id": "63ff5c5d",
   "metadata": {},
   "outputs": [
    {
     "name": "stdout",
     "output_type": "stream",
     "text": [
      "Roll no. : 2\n",
      "Name : b\n",
      "Class : 12 A\n"
     ]
    }
   ],
   "source": [
    "student_data[1].show()"
   ]
  },
  {
   "cell_type": "code",
   "execution_count": 14,
   "id": "4d833379",
   "metadata": {},
   "outputs": [
    {
     "data": {
      "text/plain": [
       "('12', 'A')"
      ]
     },
     "execution_count": 14,
     "metadata": {},
     "output_type": "execute_result"
    }
   ],
   "source": [
    "student_data[0].get_class()"
   ]
  },
  {
   "cell_type": "code",
   "execution_count": 15,
   "id": "9651b5ff",
   "metadata": {},
   "outputs": [],
   "source": [
    "student_data[0].update_name(\"anisha\")"
   ]
  },
  {
   "cell_type": "code",
   "execution_count": 16,
   "id": "c76e64ed",
   "metadata": {},
   "outputs": [
    {
     "name": "stdout",
     "output_type": "stream",
     "text": [
      "Roll no. : 1\n",
      "Name : anisha\n",
      "Class : 12 A\n"
     ]
    }
   ],
   "source": [
    "student_data[0].show()"
   ]
  },
  {
   "cell_type": "code",
   "execution_count": 17,
   "id": "fb8025e1",
   "metadata": {},
   "outputs": [
    {
     "data": {
      "text/plain": [
       "1"
      ]
     },
     "execution_count": 17,
     "metadata": {},
     "output_type": "execute_result"
    }
   ],
   "source": [
    "student_data[0].roll_no # no error because roll no. is not private"
   ]
  },
  {
   "cell_type": "code",
   "execution_count": 18,
   "id": "5b8f46b1",
   "metadata": {},
   "outputs": [
    {
     "ename": "AttributeError",
     "evalue": "'students' object has no attribute 'name'",
     "output_type": "error",
     "traceback": [
      "\u001b[0;31m---------------------------------------------------------------------------\u001b[0m",
      "\u001b[0;31mAttributeError\u001b[0m                            Traceback (most recent call last)",
      "\u001b[0;32m/var/folders/8f/36v215z56v30w9z34k5jj_2m0000gn/T/ipykernel_7219/557045626.py\u001b[0m in \u001b[0;36m<module>\u001b[0;34m\u001b[0m\n\u001b[0;32m----> 1\u001b[0;31m \u001b[0mstudent_data\u001b[0m\u001b[0;34m[\u001b[0m\u001b[0;36m0\u001b[0m\u001b[0;34m]\u001b[0m\u001b[0;34m.\u001b[0m\u001b[0mname\u001b[0m\u001b[0;34m\u001b[0m\u001b[0;34m\u001b[0m\u001b[0m\n\u001b[0m",
      "\u001b[0;31mAttributeError\u001b[0m: 'students' object has no attribute 'name'"
     ]
    }
   ],
   "source": [
    "student_data[0].name # error because name is private"
   ]
  },
  {
   "cell_type": "code",
   "execution_count": null,
   "id": "42a0559d",
   "metadata": {},
   "outputs": [],
   "source": []
  }
 ],
 "metadata": {
  "kernelspec": {
   "display_name": "Python 3 (ipykernel)",
   "language": "python",
   "name": "python3"
  },
  "language_info": {
   "codemirror_mode": {
    "name": "ipython",
    "version": 3
   },
   "file_extension": ".py",
   "mimetype": "text/x-python",
   "name": "python",
   "nbconvert_exporter": "python",
   "pygments_lexer": "ipython3",
   "version": "3.9.7"
  }
 },
 "nbformat": 4,
 "nbformat_minor": 5
}
