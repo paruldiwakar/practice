{
 "cells": [
  {
   "cell_type": "code",
   "execution_count": 1,
   "id": "74523669",
   "metadata": {},
   "outputs": [
    {
     "data": {
      "text/plain": [
       "97"
      ]
     },
     "execution_count": 1,
     "metadata": {},
     "output_type": "execute_result"
    }
   ],
   "source": [
    "ord('a')"
   ]
  },
  {
   "cell_type": "code",
   "execution_count": 2,
   "id": "99380971",
   "metadata": {},
   "outputs": [
    {
     "data": {
      "text/plain": [
       "'a'"
      ]
     },
     "execution_count": 2,
     "metadata": {},
     "output_type": "execute_result"
    }
   ],
   "source": [
    "chr(ord('A')+32)"
   ]
  },
  {
   "cell_type": "code",
   "execution_count": 45,
   "id": "31f14fe5",
   "metadata": {},
   "outputs": [
    {
     "ename": "IndentationError",
     "evalue": "expected an indented block (344023430.py, line 14)",
     "output_type": "error",
     "traceback": [
      "\u001b[0;36m  File \u001b[0;32m\"/var/folders/8f/36v215z56v30w9z34k5jj_2m0000gn/T/ipykernel_13061/344023430.py\"\u001b[0;36m, line \u001b[0;32m14\u001b[0m\n\u001b[0;31m    '''\u001b[0m\n\u001b[0m               ^\u001b[0m\n\u001b[0;31mIndentationError\u001b[0m\u001b[0;31m:\u001b[0m expected an indented block\n"
     ]
    }
   ],
   "source": [
    "def uniquechar(string):\n",
    "    count = [0]*10\n",
    "    \n",
    "    for i in range(len(string)):\n",
    "        #k = 0\n",
    "        print(string[i])\n",
    "        for j in string[i:]:\n",
    "            \n",
    "            #if j == chr(ord(j)) or chr(ord(j)+32):\n",
    "                #k=+1\n",
    "        #print(k)        \n",
    "        #count[i] = k\n",
    "            \n",
    "    '''        \n",
    "    for i in range(len(count)):\n",
    "        if count[i] ==1:\n",
    "\n",
    "            return string[i]\n",
    "        else:\n",
    "            return -1      '''       "
   ]
  },
  {
   "cell_type": "code",
   "execution_count": 40,
   "id": "c7129cd5",
   "metadata": {},
   "outputs": [
    {
     "name": "stdout",
     "output_type": "stream",
     "text": [
      "Enter a string/word :helloh\n"
     ]
    }
   ],
   "source": [
    "string = input(\"Enter a string/word :\")"
   ]
  },
  {
   "cell_type": "code",
   "execution_count": 41,
   "id": "3c54344f",
   "metadata": {},
   "outputs": [
    {
     "name": "stdout",
     "output_type": "stream",
     "text": [
      "h\n",
      "e\n",
      "l\n",
      "l\n",
      "o\n",
      "h\n",
      "e\n",
      "l\n",
      "l\n",
      "o\n",
      "h\n",
      "l\n",
      "l\n",
      "o\n",
      "h\n",
      "l\n",
      "o\n",
      "h\n",
      "o\n",
      "h\n",
      "h\n"
     ]
    },
    {
     "data": {
      "text/plain": [
       "-1"
      ]
     },
     "execution_count": 41,
     "metadata": {},
     "output_type": "execute_result"
    }
   ],
   "source": [
    "uniquechar(string)"
   ]
  },
  {
   "cell_type": "code",
   "execution_count": 27,
   "id": "8448f1f4",
   "metadata": {},
   "outputs": [
    {
     "data": {
      "text/plain": [
       "1"
      ]
     },
     "execution_count": 27,
     "metadata": {},
     "output_type": "execute_result"
    }
   ],
   "source": [
    "string.index('e')"
   ]
  },
  {
   "cell_type": "code",
   "execution_count": 18,
   "id": "836846fc",
   "metadata": {},
   "outputs": [],
   "source": [
    "count = [0]*10"
   ]
  },
  {
   "cell_type": "code",
   "execution_count": 20,
   "id": "89b90165",
   "metadata": {},
   "outputs": [
    {
     "data": {
      "text/plain": [
       "10"
      ]
     },
     "execution_count": 20,
     "metadata": {},
     "output_type": "execute_result"
    }
   ],
   "source": [
    "len(count)"
   ]
  },
  {
   "cell_type": "code",
   "execution_count": null,
   "id": "a4d6b462",
   "metadata": {},
   "outputs": [],
   "source": []
  }
 ],
 "metadata": {
  "kernelspec": {
   "display_name": "Python 3 (ipykernel)",
   "language": "python",
   "name": "python3"
  },
  "language_info": {
   "codemirror_mode": {
    "name": "ipython",
    "version": 3
   },
   "file_extension": ".py",
   "mimetype": "text/x-python",
   "name": "python",
   "nbconvert_exporter": "python",
   "pygments_lexer": "ipython3",
   "version": "3.9.7"
  }
 },
 "nbformat": 4,
 "nbformat_minor": 5
}
