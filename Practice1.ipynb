{
 "cells": [
  {
   "cell_type": "markdown",
   "id": "02b45105",
   "metadata": {},
   "source": [
    "1.  Formatted data types\n",
    "2.  Lists\n",
    "3.  Tuples\n",
    "4.  Dictionaries\n",
    "5.  if-else\n",
    "6.  Loops\n",
    "7.  Functions\n",
    "8.  Strings\n",
    "9.  OOPS\n",
    "10. Set"
   ]
  },
  {
   "cell_type": "markdown",
   "id": "0fc03a3e",
   "metadata": {},
   "source": [
    "# just another novice"
   ]
  },
  {
   "cell_type": "code",
   "execution_count": 1,
   "id": "b941e9f3",
   "metadata": {},
   "outputs": [
    {
     "name": "stdout",
     "output_type": "stream",
     "text": [
      "3 + 5 =  8\n",
      "3 / 5 =  0.6\n",
      "3 ^ 5 =  243\n",
      "5 % 3 =  2\n",
      "3 // 5 =  0\n",
      "5 // 3 =  1\n"
     ]
    }
   ],
   "source": [
    "print(\"3 + 5 = \", 3+5)\n",
    "print(\"3 / 5 = \", 3/5)\n",
    "print(\"3 ^ 5 = \", 3**5)\n",
    "print(\"5 % 3 = \", 5%3)\n",
    "print(\"3 // 5 = \", 3//5)\n",
    "print(\"5 // 3 = \", 5//3)"
   ]
  },
  {
   "cell_type": "markdown",
   "id": "291a3d96",
   "metadata": {},
   "source": [
    "# formatted datatypes"
   ]
  },
  {
   "cell_type": "code",
   "execution_count": 31,
   "id": "9bff95f0",
   "metadata": {},
   "outputs": [
    {
     "name": "stdout",
     "output_type": "stream",
     "text": [
      "A wants to perform in a space related environment & B is 21.50 years old.\n",
      "A is a dog of age 3.\n",
      "A is a cat of age 7.\n",
      "7 is a cat of age A.\n",
      "A is a cat of age 7.\n"
     ]
    }
   ],
   "source": [
    "a = \"A\"\n",
    "print(\"%s wants to perform in a space related environment & \"%(a), end=\"\")\n",
    "\n",
    "age = 21.5\n",
    "print(\"B is %0.2f years old.\"%(age))\n",
    "\n",
    "print(\"%s is a dog of age %d.\"%(a, age/7)) \n",
    "\n",
    "print(\"{} is a cat of age {}.\".format(a, int(age/3))) \n",
    "\n",
    "#By default 1st {} -> 0 & 2nd {} -> 1\n",
    "print(\"{1} is a cat of age {0}.\".format(a, int(age/3))) \n",
    "\n",
    "#f string\n",
    "print(f\"{a} is a cat of age {int(age/3)}.\") "
   ]
  },
  {
   "cell_type": "code",
   "execution_count": 3,
   "id": "688686d7",
   "metadata": {},
   "outputs": [
    {
     "name": "stdout",
     "output_type": "stream",
     "text": [
      "I will become a better person\n",
      "I will become a better person\n",
      "I will become a better person\n",
      "I will become a better person\n",
      "\n"
     ]
    }
   ],
   "source": [
    "print(\"I will become a better person\\n\" *4)"
   ]
  },
  {
   "cell_type": "markdown",
   "id": "b17ce78d",
   "metadata": {},
   "source": [
    "# Lists [ ]"
   ]
  },
  {
   "cell_type": "code",
   "execution_count": 4,
   "id": "4609446f",
   "metadata": {},
   "outputs": [
    {
     "name": "stdout",
     "output_type": "stream",
     "text": [
      "['apple', 'banana', 'mango', 'cherries', 'blue berries', 'cantaloupe', 'melon']\n",
      "apple\n",
      "a\n",
      "melon\n",
      "['apple', 'banana', 'mango', 'cherries', 'blue berries', 'cantaloupe', 'melon', 'pear']\n",
      "['apple', 'banana', 'mango', 'cherry', 'blue berries', 'cantaloupe', 'melon', 'pear']\n"
     ]
    }
   ],
   "source": [
    "fruits = [\"apple\", \"banana\", \"mango\", \"cherries\", \"blue berries\", \"cantaloupe\", \"melon\"]\n",
    "\n",
    "print(fruits)\n",
    "print(fruits[0])\n",
    "print(fruits[0][0])\n",
    "print(fruits[-1])\n",
    "\n",
    "fruits.append(\"pear\")\n",
    "print(fruits)\n",
    "\n",
    "fruits[3] = \"cherry\"\n",
    "print(fruits)\n"
   ]
  },
  {
   "cell_type": "code",
   "execution_count": 5,
   "id": "feaf5185",
   "metadata": {},
   "outputs": [
    {
     "name": "stdout",
     "output_type": "stream",
     "text": [
      "['banana', 'mango', 'cherry', 'blue berries', 'cantaloupe', 'melon', 'pear']\n",
      "['mango', 'cherry', 'blue berries', 'cantaloupe']\n",
      "['banana', 'mango']\n",
      "['apple', 'banana', 'mango', 'watermelon', 'cherry', 'cantaloupe', 'melon', 'pear']\n"
     ]
    }
   ],
   "source": [
    "print(fruits[1:])\n",
    "print(fruits[2:-2])\n",
    "print(fruits[1:3])\n",
    "\n",
    "fruits.insert(3, \"watermelon\")\n",
    "fruits.remove(\"blue berries\")\n",
    "print(fruits)"
   ]
  },
  {
   "cell_type": "code",
   "execution_count": 6,
   "id": "9c081f34",
   "metadata": {},
   "outputs": [
    {
     "name": "stdout",
     "output_type": "stream",
     "text": [
      "['pear', 'melon', 'cantaloupe', 'cherry', 'watermelon', 'mango', 'banana', 'apple']\n"
     ]
    }
   ],
   "source": [
    "fruits.reverse()\n",
    "print(fruits)"
   ]
  },
  {
   "cell_type": "code",
   "execution_count": 7,
   "id": "60b9f5d2",
   "metadata": {},
   "outputs": [
    {
     "name": "stdout",
     "output_type": "stream",
     "text": [
      "['cantaloupe', 'cherry', 'watermelon', 'potato', 'cucumber', 'radish']\n"
     ]
    }
   ],
   "source": [
    "veggies = [\"potato\", \"cucumber\", \"radish\"]\n",
    "print(fruits[2:5] + veggies)"
   ]
  },
  {
   "cell_type": "code",
   "execution_count": 8,
   "id": "fb5abbea",
   "metadata": {},
   "outputs": [
    {
     "name": "stdout",
     "output_type": "stream",
     "text": [
      "radish\n",
      "cucumber\n"
     ]
    }
   ],
   "source": [
    "print(max(veggies)) \n",
    "print(min(veggies))"
   ]
  },
  {
   "cell_type": "markdown",
   "id": "40c4c55d",
   "metadata": {},
   "source": [
    "# Tuples ( ) "
   ]
  },
  {
   "cell_type": "code",
   "execution_count": 9,
   "id": "90b8a1ef",
   "metadata": {},
   "outputs": [
    {
     "name": "stdout",
     "output_type": "stream",
     "text": [
      "((1, 1), (2, 4), (3, 9))\n",
      "((2, 4), (3, 9))\n",
      "(1, 1)\n",
      "9\n"
     ]
    }
   ],
   "source": [
    "squares = ((1,1), (2,4), (3,9))\n",
    "print(squares)\n",
    "print(squares[1:])\n",
    "print(squares[0])\n",
    "print(squares[2][1])"
   ]
  },
  {
   "cell_type": "markdown",
   "id": "7c5bf626",
   "metadata": {},
   "source": [
    "# Dictionaries { : }"
   ]
  },
  {
   "cell_type": "code",
   "execution_count": 1,
   "id": "779d136c",
   "metadata": {},
   "outputs": [],
   "source": [
    "ascii_code = { 'a' : ord('a'),\n",
    "               'b' : ord('b'),\n",
    "               'c' : ord('c'),\n",
    "               'd' : ord('d')}"
   ]
  },
  {
   "cell_type": "code",
   "execution_count": 2,
   "id": "3e627fb9",
   "metadata": {},
   "outputs": [
    {
     "name": "stdout",
     "output_type": "stream",
     "text": [
      "98\n",
      "97\n",
      "dict_keys(['a', 'b', 'c', 'd'])\n",
      "dict_values([97, 98, 99, 100])\n"
     ]
    },
    {
     "data": {
      "text/plain": [
       "dict_keys"
      ]
     },
     "execution_count": 2,
     "metadata": {},
     "output_type": "execute_result"
    }
   ],
   "source": [
    "print(ascii_code['b'])\n",
    "print(ascii_code.get('a'))\n",
    "print(ascii_code.keys())\n",
    "print(ascii_code.values())\n",
    "\n",
    "type(ascii_code.keys())\n"
   ]
  },
  {
   "cell_type": "code",
   "execution_count": 9,
   "id": "693c1236",
   "metadata": {},
   "outputs": [],
   "source": [
    "sounds = {\n",
    "            'cat' : 'meow',\n",
    "            'dog' : 'bark',\n",
    "            'snake' : 'hiss',\n",
    "            'cows' : 'moo'\n",
    "           }"
   ]
  },
  {
   "cell_type": "code",
   "execution_count": 10,
   "id": "dbcd3351",
   "metadata": {},
   "outputs": [],
   "source": [
    "sounds['snake'] = 'piss'"
   ]
  },
  {
   "cell_type": "code",
   "execution_count": 12,
   "id": "30902594",
   "metadata": {},
   "outputs": [
    {
     "data": {
      "text/plain": [
       "'piss'"
      ]
     },
     "execution_count": 12,
     "metadata": {},
     "output_type": "execute_result"
    }
   ],
   "source": [
    "sounds.pop('snake')"
   ]
  },
  {
   "cell_type": "code",
   "execution_count": 13,
   "id": "4c85a51b",
   "metadata": {},
   "outputs": [
    {
     "data": {
      "text/plain": [
       "{'cat': 'meow', 'dog': 'bark', 'cows': 'moo'}"
      ]
     },
     "execution_count": 13,
     "metadata": {},
     "output_type": "execute_result"
    }
   ],
   "source": [
    "sounds"
   ]
  },
  {
   "cell_type": "code",
   "execution_count": 14,
   "id": "ec8986c3",
   "metadata": {},
   "outputs": [],
   "source": [
    "sounds.update({'snake' : 'hiss'})"
   ]
  },
  {
   "cell_type": "code",
   "execution_count": 15,
   "id": "760ff1d8",
   "metadata": {},
   "outputs": [
    {
     "data": {
      "text/plain": [
       "{'cat': 'meow', 'dog': 'bark', 'cows': 'moo', 'snake': 'hiss'}"
      ]
     },
     "execution_count": 15,
     "metadata": {},
     "output_type": "execute_result"
    }
   ],
   "source": [
    "sounds"
   ]
  },
  {
   "cell_type": "markdown",
   "id": "76702cd4",
   "metadata": {},
   "source": [
    "# if-else"
   ]
  },
  {
   "cell_type": "code",
   "execution_count": 18,
   "id": "dfaf0a5a",
   "metadata": {},
   "outputs": [
    {
     "name": "stdout",
     "output_type": "stream",
     "text": [
      "Enter your name: paul\n",
      "Enter your age: 19\n",
      "Enter your marks: 89\n",
      "Grade : B\n"
     ]
    }
   ],
   "source": [
    "name = input(\"Enter your name: \")\n",
    "age = int(input(\"Enter your age: \"))\n",
    "marks = int(input(\"Enter your marks: \"))\n",
    "\n",
    "if (marks >= 90):\n",
    "    print(\"Grade : A\")\n",
    "    \n",
    "elif (marks>=80 and marks<90):    \n",
    "    print(\"Grade : B\")\n",
    "\n",
    "elif (marks>=70 and marks<80):    \n",
    "    print(\"Grade : C\") \n",
    " \n",
    "else:\n",
    "    print(\"Grade : D\")"
   ]
  },
  {
   "cell_type": "markdown",
   "id": "34d64799",
   "metadata": {},
   "source": [
    "# Loops"
   ]
  },
  {
   "cell_type": "code",
   "execution_count": 15,
   "id": "ca229b5c",
   "metadata": {},
   "outputs": [
    {
     "name": "stdout",
     "output_type": "stream",
     "text": [
      "2\n",
      "3\n",
      "4\n",
      "5\n",
      "6\n",
      "7\n",
      "8\n",
      "9\n"
     ]
    }
   ],
   "source": [
    "for i in range(2,10):\n",
    "    print(i)"
   ]
  },
  {
   "cell_type": "code",
   "execution_count": 19,
   "id": "9da22ee5",
   "metadata": {},
   "outputs": [
    {
     "name": "stdout",
     "output_type": "stream",
     "text": [
      "a 97\n",
      "b 98\n",
      "c 99\n",
      "d 100\n"
     ]
    }
   ],
   "source": [
    "for key in ascii_code.keys():\n",
    "    print(key, ascii_code[key])"
   ]
  },
  {
   "cell_type": "code",
   "execution_count": 28,
   "id": "a9c21a95",
   "metadata": {},
   "outputs": [],
   "source": [
    "list1 = [[23,34,11], \n",
    "         [55,32,12],\n",
    "         [59,40,61]]\n",
    "\n",
    "list2 = [21,33,54,64,12]"
   ]
  },
  {
   "cell_type": "code",
   "execution_count": 29,
   "id": "47d00eaa",
   "metadata": {},
   "outputs": [
    {
     "name": "stdout",
     "output_type": "stream",
     "text": [
      " \n",
      "23  34  11   \n",
      "55  32  12   \n",
      "59  40  61  "
     ]
    }
   ],
   "source": [
    "#for loop\n",
    "for i in num:\n",
    "    print(\" \")\n",
    "    for j in i:\n",
    "        print(j,\" \",end=\"\")"
   ]
  },
  {
   "cell_type": "code",
   "execution_count": 32,
   "id": "f0784e7c",
   "metadata": {},
   "outputs": [
    {
     "name": "stdout",
     "output_type": "stream",
     "text": [
      "Enter a number: 34\n",
      "number greater than 4\n",
      " enter again: 44\n",
      "number greater than 4\n",
      " enter again: 21\n",
      "number greater than 4\n",
      " enter again: 434\n",
      "number greater than 4\n",
      " enter again: 4\n"
     ]
    }
   ],
   "source": [
    "#while loop\n",
    "number = int(input(\"Enter a number: \"))\n",
    "\n",
    "while (number > 4):\n",
    "    number = int(input(\"number greater than 4\\n enter again: \"))"
   ]
  },
  {
   "cell_type": "markdown",
   "id": "bfde1579",
   "metadata": {},
   "source": [
    "# Functions"
   ]
  },
  {
   "cell_type": "code",
   "execution_count": 34,
   "id": "d5e7ff0e",
   "metadata": {},
   "outputs": [
    {
     "name": "stdout",
     "output_type": "stream",
     "text": [
      "4.0\n"
     ]
    }
   ],
   "source": [
    "def avg(num1, num2):\n",
    "    return (num1+num2)/2\n",
    "\n",
    "print(avg(3,5))"
   ]
  },
  {
   "cell_type": "markdown",
   "id": "0926892c",
   "metadata": {},
   "source": [
    "# Strings"
   ]
  },
  {
   "cell_type": "code",
   "execution_count": 26,
   "id": "baaaa40d",
   "metadata": {},
   "outputs": [
    {
     "name": "stdout",
     "output_type": "stream",
     "text": [
      "2\n",
      "This is me .\n",
      "this is m\n",
      "['this', 'is', 'me', '.']\n",
      "t#h#i#s# #i#s# #m#e# #.\n",
      "THIS IS ME .\n",
      "this is me .\n"
     ]
    }
   ],
   "source": [
    "string = \"this is me .\"\n",
    "\n",
    "print(string.find(\"is\"))\n",
    "print(string.capitalize())\n",
    "print(string[:-3])\n",
    "print(string.split(\" \"))\n",
    "print((\"#\").join(string))\n",
    "print(string.upper())\n",
    "print(string.lower())"
   ]
  },
  {
   "cell_type": "code",
   "execution_count": 19,
   "id": "3c9b2ea1",
   "metadata": {},
   "outputs": [
    {
     "name": "stdout",
     "output_type": "stream",
     "text": [
      "      extra space   \n",
      "extra space\n"
     ]
    }
   ],
   "source": [
    "string2 = \"      extra space   \"\n",
    "\n",
    "print(string2)\n",
    "print(string2.strip())"
   ]
  },
  {
   "cell_type": "code",
   "execution_count": 21,
   "id": "2b68433c",
   "metadata": {},
   "outputs": [
    {
     "name": "stdout",
     "output_type": "stream",
     "text": [
      "Asia America Europe\n"
     ]
    }
   ],
   "source": [
    "string3 = \"Asia, America, Europe\"\n",
    "print(string3.replace(\",\", \"\"))"
   ]
  },
  {
   "cell_type": "markdown",
   "id": "6ef818e0",
   "metadata": {},
   "source": [
    "# File Handling"
   ]
  },
  {
   "cell_type": "code",
   "execution_count": 62,
   "id": "6ba0dacb",
   "metadata": {},
   "outputs": [
    {
     "name": "stdout",
     "output_type": "stream",
     "text": [
      "practice1.txt\n",
      "wb\n"
     ]
    }
   ],
   "source": [
    "file1 = open(\"practice1.txt\", \"wb\")\n",
    "\n",
    "print(file1.name)\n",
    "print(file1.mode)\n",
    "\n",
    "file1.write(bytes(\"Stuff was added to this file :)\", \"UTF-8\"))\n",
    "file1.close()"
   ]
  },
  {
   "cell_type": "code",
   "execution_count": 66,
   "id": "827ac411",
   "metadata": {},
   "outputs": [
    {
     "name": "stdout",
     "output_type": "stream",
     "text": [
      "Stuff was added to this file :)\n",
      "This file was opened again but not in notebook yikes\n"
     ]
    }
   ],
   "source": [
    "file2 = open(\"practice1.txt\", \"r+\")\n",
    "\n",
    "print(file2.read())\n",
    "\n",
    "file2.close()"
   ]
  },
  {
   "cell_type": "markdown",
   "id": "27458b70",
   "metadata": {},
   "source": [
    "# Sets { }"
   ]
  },
  {
   "cell_type": "code",
   "execution_count": 5,
   "id": "2bfed1c9",
   "metadata": {},
   "outputs": [
    {
     "name": "stdout",
     "output_type": "stream",
     "text": [
      "{1, 2, 3, 4, 5, 6}\n"
     ]
    }
   ],
   "source": [
    "set_list = { 1,3,2,1,3,1,4,5,2,4,2,4,6,6,5}\n",
    "\n",
    "print(set_list)"
   ]
  },
  {
   "cell_type": "code",
   "execution_count": 6,
   "id": "0fc8a883",
   "metadata": {},
   "outputs": [
    {
     "name": "stdout",
     "output_type": "stream",
     "text": [
      "{1, 2, 3, 4, 5, 6, 12, 13, 21, 23, 5343, 32, 545}\n"
     ]
    }
   ],
   "source": [
    "set_list.add(23) #to add one no.\n",
    "set_list.update([32,5343,12,545,21,12,21,21,13,4]) #to multiple no.s\n",
    "\n",
    "print(set_list)"
   ]
  },
  {
   "cell_type": "code",
   "execution_count": 7,
   "id": "688b4396",
   "metadata": {},
   "outputs": [
    {
     "name": "stdout",
     "output_type": "stream",
     "text": [
      "{1, 2, 3, 4, 5, 6, 13, 21, 23, 5343, 32, 545}\n"
     ]
    }
   ],
   "source": [
    "set_list.remove(12)    #if the no. is present then removes it otherwise gives error\n",
    "set_list.discard(333)  #if the no. is present then removes it otherwise no action\n",
    "\n",
    "print(set_list)"
   ]
  },
  {
   "cell_type": "code",
   "execution_count": 11,
   "id": "6db6f545",
   "metadata": {},
   "outputs": [
    {
     "name": "stdout",
     "output_type": "stream",
     "text": [
      "{3, 4, 5, 6, 13, 21, 23, 5343, 32, 545}\n",
      "set()\n"
     ]
    }
   ],
   "source": [
    "set_list.pop()\n",
    "print(set_list)\n",
    "\n",
    "set_list.clear()\n",
    "print(set_list)"
   ]
  },
  {
   "cell_type": "code",
   "execution_count": null,
   "id": "9cdc3228",
   "metadata": {},
   "outputs": [],
   "source": []
  },
  {
   "cell_type": "code",
   "execution_count": null,
   "id": "f299c537",
   "metadata": {},
   "outputs": [],
   "source": []
  }
 ],
 "metadata": {
  "kernelspec": {
   "display_name": "Python 3 (ipykernel)",
   "language": "python",
   "name": "python3"
  },
  "language_info": {
   "codemirror_mode": {
    "name": "ipython",
    "version": 3
   },
   "file_extension": ".py",
   "mimetype": "text/x-python",
   "name": "python",
   "nbconvert_exporter": "python",
   "pygments_lexer": "ipython3",
   "version": "3.9.7"
  }
 },
 "nbformat": 4,
 "nbformat_minor": 5
}
